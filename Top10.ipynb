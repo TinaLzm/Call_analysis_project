{
 "cells": [
  {
   "cell_type": "code",
   "execution_count": 2,
   "id": "08dc556d",
   "metadata": {},
   "outputs": [
    {
     "name": "stderr",
     "output_type": "stream",
     "text": [
      "/Users/iamtess/opt/anaconda3/lib/python3.8/site-packages/IPython/core/interactiveshell.py:3165: DtypeWarning: Columns (20,31,32) have mixed types.Specify dtype option on import or set low_memory=False.\n",
      "  has_raised = await self.run_ast_nodes(code_ast.body, cell_name,\n"
     ]
    }
   ],
   "source": [
    "import csv\n",
    "import pandas as pd\n",
    "calls = pd.read_csv(\"311_service_requests_2020.csv\")\n",
    "calls_10025 = calls[calls[\"Incident Zip\"].isin([10025])]\n"
   ]
  },
  {
   "cell_type": "code",
   "execution_count": 3,
   "id": "0bfbcb29",
   "metadata": {},
   "outputs": [
    {
     "data": {
      "text/plain": [
       "Noise - Residential            2952\n",
       "Noise - Street/Sidewalk        2128\n",
       "HEAT/HOT WATER                 1885\n",
       "Noise                          1131\n",
       "Illegal Parking                 792\n",
       "Noise - Vehicle                 787\n",
       "Non-Emergency Police Matter     773\n",
       "Rodent                          691\n",
       "Illegal Fireworks               672\n",
       "UNSANITARY CONDITION            565\n",
       "Name: Complaint Type, dtype: int64"
      ]
     },
     "execution_count": 3,
     "metadata": {},
     "output_type": "execute_result"
    }
   ],
   "source": [
    "top10 = calls_10025['Complaint Type'].value_counts()[:10]\n",
    "top10"
   ]
  },
  {
   "cell_type": "code",
   "execution_count": null,
   "id": "3bf66af7",
   "metadata": {},
   "outputs": [],
   "source": []
  }
 ],
 "metadata": {
  "kernelspec": {
   "display_name": "Python 3",
   "language": "python",
   "name": "python3"
  },
  "language_info": {
   "codemirror_mode": {
    "name": "ipython",
    "version": 3
   },
   "file_extension": ".py",
   "mimetype": "text/x-python",
   "name": "python",
   "nbconvert_exporter": "python",
   "pygments_lexer": "ipython3",
   "version": "3.8.8"
  }
 },
 "nbformat": 4,
 "nbformat_minor": 5
}
