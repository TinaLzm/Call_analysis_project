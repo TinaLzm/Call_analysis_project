{
 "cells": [
  {
   "cell_type": "code",
   "execution_count": 1,
   "id": "40411b50",
   "metadata": {},
   "outputs": [
    {
     "name": "stderr",
     "output_type": "stream",
     "text": [
      "/Users/luzimin/opt/anaconda3/lib/python3.8/site-packages/IPython/core/interactiveshell.py:3165: DtypeWarning: Columns (20,31,32) have mixed types.Specify dtype option on import or set low_memory=False.\n",
      "  has_raised = await self.run_ast_nodes(code_ast.body, cell_name,\n"
     ]
    }
   ],
   "source": [
    "import pandas as pd\n",
    "import numpy as np\n",
    "df = pd.read_csv('311_Service_Requests_2020.csv')\n",
    "df1 = df[df['Incident Zip'] == 10025]\n",
    "df2 = df1[df1[\"Complaint Type\"] == 'Illegal Parking']\n",
    "df3 = df[df[\"Complaint Type\"] == 'Illegal Parking']"
   ]
  },
  {
   "cell_type": "code",
   "execution_count": 4,
   "id": "2fc201a4",
   "metadata": {},
   "outputs": [
    {
     "name": "stdout",
     "output_type": "stream",
     "text": [
      "0.07487334365033108\n",
      "0.03775383735341787\n"
     ]
    }
   ],
   "source": [
    "total = df3['Unique Key'].agg(\"count\")/df['Unique Key'].agg(\"count\")\n",
    "local = df2['Unique Key'].agg(\"count\")/df1['Unique Key'].agg(\"count\")\n",
    "\n",
    "print(total)\n",
    "print(local)"
   ]
  },
  {
   "cell_type": "code",
   "execution_count": 5,
   "id": "506c6b5b",
   "metadata": {},
   "outputs": [
    {
     "data": {
      "text/plain": [
       "False"
      ]
     },
     "execution_count": 5,
     "metadata": {},
     "output_type": "execute_result"
    }
   ],
   "source": [
    "higher_parking_proportion = local >= total\n",
    "higher_parking_proportion"
   ]
  },
  {
   "cell_type": "code",
   "execution_count": null,
   "id": "faac0735",
   "metadata": {},
   "outputs": [],
   "source": []
  }
 ],
 "metadata": {
  "kernelspec": {
   "display_name": "Python 3",
   "language": "python",
   "name": "python3"
  },
  "language_info": {
   "codemirror_mode": {
    "name": "ipython",
    "version": 3
   },
   "file_extension": ".py",
   "mimetype": "text/x-python",
   "name": "python",
   "nbconvert_exporter": "python",
   "pygments_lexer": "ipython3",
   "version": "3.8.8"
  }
 },
 "nbformat": 4,
 "nbformat_minor": 5
}
